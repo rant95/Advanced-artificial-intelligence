{
  "nbformat": 4,
  "nbformat_minor": 0,
  "metadata": {
    "colab": {
      "name": "RCP211 RL TP2_solution.ipynb",
      "provenance": [],
      "collapsed_sections": [],
      "toc_visible": true
    },
    "kernelspec": {
      "name": "python3",
      "display_name": "Python 3"
    }
  },
  "cells": [
    {
      "cell_type": "markdown",
      "metadata": {
        "id": "bIMEBv53g-o6"
      },
      "source": [
        "# Model Free Prediction"
      ]
    },
    {
      "cell_type": "code",
      "metadata": {
        "id": "r8UwOAGTgz6H"
      },
      "source": [
        "import numpy as np\n",
        "from matplotlib import pyplot as plt\n",
        "from time import sleep\n",
        "from IPython.display import clear_output\n",
        "import math\n",
        "import numpy.matlib\n",
        "import random"
      ],
      "execution_count": null,
      "outputs": []
    },
    {
      "cell_type": "markdown",
      "metadata": {
        "id": "JiGoZv3_hMps"
      },
      "source": [
        "## Marche aléatoire\n",
        "\n",
        "Dans cet exemple simple, nous essayons d'évaluer la fonction de valeur des états correspondant à un problème de marche aléatoire. Ici, l'agent suit une politique aléatoire et peut aller soit à gauche avec une probabilité $p$ soit à droite avec une probabilité $1-p$. Il existe en tout $N$ cases sur lesquelles l'agent peut se déplacer ainsi que deux cases terminales d'où il ne peut pas repartir : \n",
        "\n",
        "$$ \\square \\overset{0}{\\leftarrow} 1 \\overset{0}{\\longleftrightarrow} \\cdots \\overset{0}{\\longleftrightarrow} N \\overset{1}{\\rightarrow} \\blacksquare $$\n",
        "\n",
        "La récompense de passer d'un état à l'autre est nul exceptée pour la terminaison de droite.\n",
        "\n",
        "### Dynamic programming \n",
        "\n",
        "Ce problème est suffisament simple pour pouvoir êêtre calculé à la main (*cf.* cours). Ceci nous permettra dans ce cas de vérifier l'estimation obtenue. \n",
        "\n",
        "### First Visit Monte Carlo \n",
        "\n",
        "Une première façon d'estimer la fonction de valeur en chaque état est de générer plusieurs marches aléatoires en gardant en mémoire combien de fois les états ont été visités et pour quel valeur de retour. La moyenne du retour pour chaque état nous donne ainsi une estimation non biaisée de la fonction de valeur."
      ]
    },
    {
      "cell_type": "markdown",
      "metadata": {
        "id": "rGzlgMr8G6R-"
      },
      "source": [
        "La fonction suivante donne le retour et le nombre de fois qu'un état à été visité (first-visite)"
      ]
    },
    {
      "cell_type": "code",
      "metadata": {
        "id": "LijUtVfXhQJL"
      },
      "source": [
        "def MC_random_walk(i0,N):\n",
        "  Ns = np.zeros([N,1])\n",
        "  i = i0\n",
        "  G = np.zeros([N,1])\n",
        "  Ns[i] = 1\n",
        "  while i!=-1 and i!=N:\n",
        "    pi = np.random.binomial(1, .5, 1)\n",
        "    i = i+1 if pi==0 else i-1\n",
        "    if i in range(N) and Ns[i]==0:\n",
        "      Ns[i] = 1\n",
        "    elif i==N:\n",
        "      G[np.argwhere(Ns==1)[:,0]] = 1\n",
        "  return Ns, G"
      ],
      "execution_count": null,
      "outputs": []
    },
    {
      "cell_type": "markdown",
      "metadata": {
        "id": "5zKss32-HHWZ"
      },
      "source": [
        "#### Coding Task\n",
        "\n",
        "Complétez le code suivant pour permettre l'estimation de la fonction d'état"
      ]
    },
    {
      "cell_type": "code",
      "metadata": {
        "id": "os7aZIGPsbwM",
        "colab": {
          "base_uri": "https://localhost:8080/"
        },
        "outputId": "a1e3bddb-77d5-4d21-e176-40a445b340b6"
      },
      "source": [
        "iter = 1000\n",
        "Nb_states = 5\n",
        "Ns = np.zeros([N,1])\n",
        "G  = 0\n",
        "for i in range(iter):\n",
        "  MC_est = MC_random_walk(3,Nb_states)\n",
        "  Ns = Ns + MC_est[0]\n",
        "  G  = G  + MC_est[1]\n",
        "\n",
        "V = G/Ns\n",
        "V"
      ],
      "execution_count": null,
      "outputs": [
        {
          "output_type": "execute_result",
          "data": {
            "text/plain": [
              "array([[0.15696203],\n",
              "       [0.3313253 ],\n",
              "       [0.50812408],\n",
              "       [0.667     ],\n",
              "       [0.83375   ]])"
            ]
          },
          "metadata": {
            "tags": []
          },
          "execution_count": 4
        }
      ]
    },
    {
      "cell_type": "markdown",
      "metadata": {
        "id": "LE68Rrc7j9Vi"
      },
      "source": [
        "### Temporal Difference-Learning\n",
        "\n",
        "Plutôt que d'estimer le retour après chaque trajectoire, nous allons mettre à jour l'estimation de la fonction de valeur dès qu'un état est visité en s'appuyant sur l'équation de Bellman :\n",
        "\n",
        "$$ V(S_t ) \\leftarrow V(S_t) + \\alpha\\left[R_{t+1} + \\gamma V(S_{t+1}) - V(S_t) \\right] $$\n",
        "\n",
        "Ici, nous prendrons les discount factors $\\gamma$ et $\\alpha$ égaux à 1 . \n"
      ]
    },
    {
      "cell_type": "markdown",
      "metadata": {
        "id": "C3AVTIGkHO4B"
      },
      "source": [
        "#### Coding Task :\n",
        "\n",
        "Complétez la fonction suivant pour l'estimation de la valeur pendant que l'agent évalue dans son environnement avec l'algorithme TD0"
      ]
    },
    {
      "cell_type": "code",
      "metadata": {
        "id": "Ygi28-HhmfYZ"
      },
      "source": [
        "N = 5\n",
        "def TD0_random_walk(V,i0,alpha,gamma):\n",
        "  i = i0\n",
        "  i_old = i0\n",
        "  R = 0\n",
        "  while i!=-1 and i!=N:\n",
        "    pi = np.random.binomial(1, .5, 1)\n",
        "    i = i+1 if pi==0 else i-1\n",
        "    if i==N:\n",
        "      R = 1\n",
        "      V[i_old] = V[i_old] + alpha*(R + 0 - V[i_old])\n",
        "    elif i==-1:\n",
        "      V[i_old] = V[i_old] + alpha*(R + 0 - V[i_old])\n",
        "    else:\n",
        "      V[i_old] = V[i_old] + alpha*(R + gamma*V[i] - V[i_old])\n",
        "    #print((i_old,i))\n",
        "    i_old = i\n",
        "  return V"
      ],
      "execution_count": null,
      "outputs": []
    },
    {
      "cell_type": "markdown",
      "metadata": {
        "id": "7I1ZP_KwHdas"
      },
      "source": [
        "Itérons un certain nombre d'epochs pour avoir une bonne estimation"
      ]
    },
    {
      "cell_type": "code",
      "metadata": {
        "id": "PI9gNF4ipYYS",
        "colab": {
          "base_uri": "https://localhost:8080/"
        },
        "outputId": "75cd8a5a-dc9b-4bb6-e02d-01842dffecd9"
      },
      "source": [
        "iter = 1000\n",
        "V = np.zeros([N,1])\n",
        "\n",
        "for i in range(iter):\n",
        "  V = TD0_random_walk(V,3,.05,1)\n",
        "  \n",
        "print(V)\n"
      ],
      "execution_count": null,
      "outputs": [
        {
          "output_type": "stream",
          "text": [
            "[[0.15553234]\n",
            " [0.32566813]\n",
            " [0.5378693 ]\n",
            " [0.701708  ]\n",
            " [0.84790211]]\n"
          ],
          "name": "stdout"
        }
      ]
    },
    {
      "cell_type": "markdown",
      "metadata": {
        "id": "WCSM-ojovQW-"
      },
      "source": [
        "### Forward-View TD($\\lambda$)\n",
        "\n",
        "Plutôt que n'utiliser que le prochain état pour mettre à jour l'estimation de l'état courrant, Il peut être tentant de voir plus loin dans le futur pour estimer la valeur d'être dans un état particulier. L'algorithme Forward-View TD($\\lambda$) permet de combiner l'ensemble des estimations pouvant être faites en utilisant l'information provenant d'un, deux, trois, etc réalisations future."
      ]
    },
    {
      "cell_type": "code",
      "metadata": {
        "id": "j4W4ojGKp70i"
      },
      "source": [
        "def FVTD_lambda_random_walk(V,i0,lambda_,alpha,gamma):\n",
        "  V_new = V.copy() # Offline updates\n",
        "  i = i0\n",
        "  i_old = i\n",
        "  R = 0\n",
        "  mooves = []\n",
        "  Gt_lambda = np.zeros([N,1])\n",
        "  while i!=-1 and i!=N:\n",
        "    pi = np.random.binomial(1, .5, 1)\n",
        "    i = i+1 if pi==0 else i-1\n",
        "    R = 0 if i!=N else 1\n",
        "    mooves.append((i_old,i,R)) # position en t, postition en t+1, récompense immédiate \n",
        "    i_old = i\n",
        "\n",
        "  for t in range(len(mooves)):\n",
        "    Gn_array = []\n",
        "    R_sum = 0\n",
        "    i = mooves[t][0]\n",
        "    for n, m in enumerate(mooves[t:]):\n",
        "      now, next, R = m\n",
        "      R_sum += gamma**n*R\n",
        "      Gn_t = lambda_**n*R_sum if next==N or next==-1 else lambda_**n*(R_sum + V[next])\n",
        "      Gn_array.append(Gn_t)\n",
        "    Glambda_t = (1-lambda_)*sum(Gn_array[:-1]) + Gn_array[-1]\n",
        "    if i in range(N):\n",
        "      V_new[i] = V[i] + alpha*(Glambda_t - V[i])\n",
        "    #print(f' moove t = {mooves[t]}, \\n Gn_array = {Gn_array}, \\n Glambda_t = {Glambda_t}, \\n V = {V_new}, \\n')\n",
        "  return V_new"
      ],
      "execution_count": null,
      "outputs": []
    },
    {
      "cell_type": "code",
      "metadata": {
        "id": "3ed8-oDtFlTF",
        "colab": {
          "base_uri": "https://localhost:8080/",
          "height": 121
        },
        "outputId": "306cdd7b-1605-4fdc-851d-8cd09378fd2b"
      },
      "source": [
        "iter = 10000\n",
        "V = 0*np.ones([N,1])\n",
        "\n",
        "for i in range(iter):\n",
        "  V = FVTD_lambda_random_walk(V,2,1,.1,1)\n",
        "print(V)\n",
        "Vt = [1/6,2/6,3/6,4/6,5/6]\n",
        "print(f'RMSE = {np.sqrt(np.mean( (V - Vt)**2 ))}')"
      ],
      "execution_count": null,
      "outputs": [
        {
          "output_type": "stream",
          "text": [
            "[[0.09994937]\n",
            " [0.28164025]\n",
            " [0.55402685]\n",
            " [0.80292355]\n",
            " [0.95034747]]\n",
            "RMSE = 0.3957255827604822\n"
          ],
          "name": "stdout"
        }
      ]
    },
    {
      "cell_type": "markdown",
      "metadata": {
        "id": "9ZD3Ap-Vls8w"
      },
      "source": [
        "### Backward View TD($\\lambda$)\n",
        "\n",
        "L'algorithme forward view TD($\\lambda$) ne peut pas produire une estimation *online*, c'est à dire qu'il faut attendre que l'agent ait terminé sa trajectoire pour pouvoir avoir un échantillon et mettre à jour la fonction de valeur. Une variante permettant de résoudre ce problème est l'algorithme Backward View TD($\\lambda$). Celui-ci garde en mémoire le nombre de passages par un état pour calculer l'erreur et mettre à jour la fonction de valeur pour l'état visité."
      ]
    },
    {
      "cell_type": "code",
      "metadata": {
        "id": "fgi0LMEGG5Aj"
      },
      "source": [
        "def BVTD_lambda_random_walk(V,i0,lambda_,gamma,alpha):\n",
        "  V_new = V.copy() # Offline updates\n",
        "  E = np.zeros([N,1])\n",
        "  i = i0\n",
        "  i_old = i\n",
        "  R = 0\n",
        "  while i!=-1 and i!=N:\n",
        "    E = gamma*lambda_*E\n",
        "    E[i] += 1\n",
        "    pi = np.random.binomial(1, .5, 1)\n",
        "    i = i+1 if pi==0 else i-1 # next state\n",
        "    R = 0 if i!=N else 1\n",
        "    delta = R - V[i_old] if i==-1 or i==N else R + gamma*V[i] - V[i_old]\n",
        "    V_new[i_old] += alpha*delta*E[i_old]\n",
        "    #print(f' moove t = {(i_old,i)}, \\n E = {E}, \\n V = {V_new}, \\n')\n",
        "    i_old = i\n",
        "  return V_new"
      ],
      "execution_count": null,
      "outputs": []
    },
    {
      "cell_type": "code",
      "metadata": {
        "id": "tMjTj13TXTe2",
        "colab": {
          "base_uri": "https://localhost:8080/",
          "height": 121
        },
        "outputId": "91b2eb36-70e2-447c-fc8e-01c6fe67ccb1"
      },
      "source": [
        "iter = 1000\n",
        "V = np.zeros([N,1])\n",
        "\n",
        "for i in range(iter):\n",
        "  V = BVTD_lambda_random_walk(V,3,.5,1,.1)\n",
        "  \n",
        "print(V)\n",
        "Vt = [1/6,2/6,3/6,4/6,5/6]\n",
        "print(f'RMSE = {np.sqrt(np.mean( (V - Vt)**2 ))}')"
      ],
      "execution_count": null,
      "outputs": [
        {
          "output_type": "stream",
          "text": [
            "[[0.13480436]\n",
            " [0.32925962]\n",
            " [0.49520147]\n",
            " [0.70934396]\n",
            " [0.88949826]]\n",
            "RMSE = 0.35661035366915894\n"
          ],
          "name": "stdout"
        }
      ]
    },
    {
      "cell_type": "markdown",
      "metadata": {
        "id": "93fNH2MiPdaT"
      },
      "source": [
        "## Model Free Control\n",
        "\n",
        "Pour l'instant nous avons vu deux approches Monte Carlo et TD pour estimer la fonction de valeur d'un MDP. À présent nous allons voir comment faire du contrôle, c'est à dire trouver la meilleur politique.\n",
        "\n",
        "Lorsque le contrôle était basé sur un model, nous avons vu queune façon efficace d'estimer la politique optimale était de faire une sélection gloutonne parmis les actions pour sélectioner celles qui maximiseront la fonction de valeur. Ici, nous n'avons plus de modèle ce qui veut dire que nous n'avons pas accès aux propabilités de transitions - ou alors que nous ne nous souhaitons pas nous en préocuper. Il ne nous est donc plus possible d'être exhaustif dans le choix de nos actions et plutôt que d'estimer la fonction de valeur du MDP, nous allons estimer sa fonction d'action-valeur $Q(s,a)$ ce qui nous affranchi de devoir connaitre explicitement les transitions.\n",
        "\n",
        "### GLIE Monte Carlo control\n",
        "\n",
        "Une première façon simple d'estimer $Q(s,a)$ est d'utiliser un échantillonnage par Monte Carlo. Pour chaque paire d'état, actions $(s,a)$ visitée, nous incrémentons un compteur et nous lui associons le retour obtenu pour une certaine trajectoire. La valeur $Q(s,a)$ est ensuite obtenue en moyennant les différents retours pour toutes les trajectoires de l'agent.\n",
        "\n",
        "La politique optimale est ensuite obtenue en sélectionnant de façon gloutonne l'action qui va maximiser $Q$. Pour s'assurer d'explorer tout l'espace des états et actions et converger ainsi vers la politique optimale, la politique est parfois choisie de manière aléatoire."
      ]
    },
    {
      "cell_type": "code",
      "metadata": {
        "cellView": "form",
        "id": "SSDXeHb746V8"
      },
      "source": [
        "#@title GridWorld Class \n",
        "\n",
        "class GridWorld:\n",
        "  def __init__(self, size=(5,5), start=[2,0], end=[4,2],r=-1):\n",
        "    self.size = size\n",
        "    self.Nx, self.Ny = size\n",
        "    self.start = start\n",
        "    self.state = start\n",
        "    self.end = end\n",
        "    self.EOG = 0\n",
        "    self.actions = ('E','N','W','S')\n",
        "    self.r = r\n",
        "\n",
        "  def reboot(self):\n",
        "    self.state = self.start\n",
        "    self.EOG = 0\n",
        "    \n",
        "  def go(self,action):\n",
        "    s = self.state.copy()\n",
        "    if not action in self.actions:\n",
        "      raise ValueError('Action should be one of the following : E, N, W or S')\n",
        "    elif action=='N' and s[1] < self.Ny-1:\n",
        "      s[1] += 1\n",
        "    elif action=='S' and s[1] > 0:\n",
        "      s[1] -= 1\n",
        "    elif action=='E' and s[0] < self.Nx-1:\n",
        "      s[0] += 1\n",
        "    elif action=='W' and s[0] > 0:\n",
        "      s[0] -= 1\n",
        "    self.state = s\n",
        "    if s == self.end:\n",
        "      self.EOG = 1\n",
        "      r = 0\n",
        "    else:\n",
        "      r = self.r\n",
        "    return r\n",
        "\n",
        "  def plot_grid(self):\n",
        "    grid = np.zeros([self.Nx,self.Ny])\n",
        "    x,y = self.end\n",
        "    grid[self.Ny-y-1,x] = -1\n",
        "    x,y = self.state\n",
        "    grid[self.Ny-y-1,x] = 1\n",
        "    plt.imshow(grid)\n",
        "    plt.show()\n",
        "    sleep(1)\n",
        "    clear_output()"
      ],
      "execution_count": null,
      "outputs": []
    },
    {
      "cell_type": "code",
      "metadata": {
        "cellView": "form",
        "id": "N2YIHXb35Btd"
      },
      "source": [
        "#@title ActionState Class\n",
        "\n",
        "class ActionStateTable:\n",
        "  def __init__(self,size,values=0,end=[4,2]):\n",
        "    self.Nx, self.Ny = size\n",
        "    self.Ns = self.Nx*self.Ny\n",
        "    self.actions = ('E','N','W','S')\n",
        "    self.Na = len(self.actions)\n",
        "    self.values = np.full(shape=[self.Ns,self.Na],fill_value=values)\n",
        "    self.end = end\n",
        "\n",
        "  def get(self,s,a):\n",
        "    x,y = s\n",
        "    ia = np.argwhere([i==a for i in self.actions])\n",
        "    return self.values[x*self.Ny + y,ia]\n",
        "\n",
        "  def update(self,s,a,d): # s : (0,0),...,(0,Ny-1),...,(Nx-1,Ny-1) & a : E,N,W,S\n",
        "    x,y = s\n",
        "    #print(f's = {s}')\n",
        "    ia = np.argwhere([i==a for i in self.actions])\n",
        "    self.values[x*self.Ny + y, ia] = d\n",
        "\n",
        "  def greedy(self,s):\n",
        "    x,y = s\n",
        "    ia = np.argmax(self.values[x*self.Ny + y, :])\n",
        "    return self.actions[ia]\n",
        "\n",
        "  def plot_table(self):\n",
        "    plt.xticks(np.arange(-1, self.Nx+1, 1))\n",
        "    plt.yticks(np.arange(-1, self.Ny+1, 1))\n",
        "    plt.grid( which='major')\n",
        "\n",
        "    param = {'lw':3,\n",
        "            'head_width':1/(self.Nx+self.Ny)}\n",
        "    for i in range(self.Ns):\n",
        "      ll = self.values[i,:]\n",
        "      y = i%self.Ny\n",
        "      x = math.floor(i/self.Ny)\n",
        "      if [x,y] == self.end:\n",
        "        continue\n",
        "      n = np.argmax(ll)\n",
        "      if n==0:\n",
        "        plt.arrow(x,y,.5,0,**param)\n",
        "      elif n==1:\n",
        "        plt.arrow(x,y,0,.5,**param)\n",
        "      elif n==2:\n",
        "        plt.arrow(x,y,-.5,0,**param)\n",
        "      elif n==3:\n",
        "        plt.arrow(x,y,0,-.5,**param)\n"
      ],
      "execution_count": null,
      "outputs": []
    },
    {
      "cell_type": "code",
      "metadata": {
        "cellView": "form",
        "id": "M3F2ky8rDhvQ"
      },
      "source": [
        "#@title Trajectory Class\n",
        "\n",
        "class Trajectory:\n",
        "  def __init__(self,grid,gamma=1,show=0,T=1e3):\n",
        "    self.grid = grid\n",
        "    self.G = 0\n",
        "    self.gamma = gamma\n",
        "    self.actions = grid.actions\n",
        "    self.show = show\n",
        "    self.T = T\n",
        "\n",
        "  def get_action(self,Q,s,epsilon):\n",
        "    pi = np.random.binomial(1, epsilon, 1)\n",
        "    available_actions = list(self.actions)\n",
        "    if s[0] == 0:\n",
        "      available_actions.remove('E')\n",
        "    if s[0] == self.grid.Nx-1:\n",
        "      available_actions.remove('W')\n",
        "    if s[1] == 0:\n",
        "      available_actions.remove('S')\n",
        "    if s[1] == self.grid.Ny-1:\n",
        "      available_actions.remove('N')\n",
        "    if pi==0:\n",
        "      a = Q.greedy(s)\n",
        "    else:\n",
        "      a = random.choice(available_actions)\n",
        "    return a"
      ],
      "execution_count": null,
      "outputs": []
    },
    {
      "cell_type": "markdown",
      "metadata": {
        "id": "kvptPsqHEl1H"
      },
      "source": [
        "Pour commencer nous allons implémenter la version Monte-Carlo du contrôle. La fonction suivante permet de lancer une trajectoire et donne en sortie le retour et le nombre de fois qu'un état à été visité."
      ]
    },
    {
      "cell_type": "code",
      "metadata": {
        "id": "KkvL3r5tVnGn"
      },
      "source": [
        "def MC_run(traj,Q,epsilon):\n",
        "  grid = traj.grid\n",
        "  size = grid.size\n",
        "  N = ActionStateTable(size=size)\n",
        "  G = ActionStateTable(size=size)\n",
        "  r = 0\n",
        "  t = 0\n",
        "  grid.reboot()\n",
        "  while not grid.EOG and t<traj.T:\n",
        "    if traj.show:\n",
        "      traj.grid.plot_grid()\n",
        "    s = grid.state\n",
        "    a = traj.get_action(Q,s,epsilon)\n",
        "    #print(f'action is {a}')\n",
        "    r += grid.go(a)\n",
        "    N.update(s,a,1)\n",
        "    G.update(s,a,r)\n",
        "    t+=1\n",
        "  return G, N\n"
      ],
      "execution_count": null,
      "outputs": []
    },
    {
      "cell_type": "markdown",
      "metadata": {
        "id": "-GhOeGwPFOTy"
      },
      "source": [
        "### Coding task :\n",
        "\n",
        "Compléter le code suivant pour mettre à jour la Q table ainsi $\\epsilon$ de façon à converger vers une politique optimale. On dera une mise à jour touts les 10 trajectoires."
      ]
    },
    {
      "cell_type": "code",
      "metadata": {
        "id": "Z-zhKIg7DCxa"
      },
      "source": [
        "grid = GridWorld()\n",
        "traj = Trajectory(grid,show=0,T=2000)\n",
        "Q = ActionStateTable(size=grid.size,values=-1e3)\n",
        "G = ActionStateTable(size=grid.size,values=-1e3)\n",
        "N = ActionStateTable(size=grid.size,values=1)\n",
        "iter = 5000\n",
        "update_every = 10\n",
        "epsilon = 1\n",
        "alpha = .9\n",
        "for i in range(iter):\n",
        "  Gi,Ni = MC_run(traj,Q,epsilon)\n",
        "  G.values += Gi.values\n",
        "  N.values += Ni.values\n",
        "  if i%update_every==update_every-1:\n",
        "    print(f'iter {i}/{iter}')\n",
        "    Q.values = G.values/N.values\n",
        "    epsilon = epsilon*0.96\n",
        "    print(f'epsilon = {epsilon}')\n",
        "  if i == iter-10:\n",
        "    traj.show = 1"
      ],
      "execution_count": null,
      "outputs": []
    },
    {
      "cell_type": "markdown",
      "metadata": {
        "id": "Nk1ZyMckFmrb"
      },
      "source": [
        "Affichons les actions sur la grille pour observer si le comportement de l'agent permet d'atteindre le but recherché (à défaut d'être réellement optimal)"
      ]
    },
    {
      "cell_type": "code",
      "metadata": {
        "colab": {
          "base_uri": "https://localhost:8080/",
          "height": 269
        },
        "id": "ZQ26fBfK88qV",
        "outputId": "1a88a473-83fd-4144-b3d4-b7f881ff678f"
      },
      "source": [
        "Q.plot_table()"
      ],
      "execution_count": null,
      "outputs": [
        {
          "output_type": "display_data",
          "data": {
            "image/png": "[encoded data removed]",
            "text/plain": [
              "<Figure size 432x288 with 1 Axes>"
            ]
          },
          "metadata": {
            "tags": [],
            "needs_background": "light"
          }
        }
      ]
    },
    {
      "cell_type": "markdown",
      "metadata": {
        "id": "CmWtTcI6FzrL"
      },
      "source": [
        "### Coding task\n",
        "\n",
        "A présent, complétez la fonction suivante pour permettre le contrôle avec l'algorithme SARSA"
      ]
    },
    {
      "cell_type": "code",
      "metadata": {
        "id": "2k1VsoSeE0Op"
      },
      "source": [
        "\n",
        "def SARSA_run(traj,Q,alpha,epsilon):\n",
        "  grid = traj.grid\n",
        "  size = grid.size\n",
        "  grid.reboot()\n",
        "  s0 = grid.state\n",
        "  a0 = traj.get_action(Q,s0,epsilon)\n",
        "  q0 = Q.get(s0,a0)\n",
        "  t = 0\n",
        "  err = 0\n",
        "  while not grid.EOG and t<traj.T:\n",
        "    if traj.show:\n",
        "      traj.grid.plot_grid()\n",
        "    r = grid.go(a0)\n",
        "    s1 = grid.state\n",
        "    a1 = traj.get_action(Q,s1,epsilon)\n",
        "    q1 = Q.get(s1,a1)\n",
        "    delta = r + traj.gamma*q1 - q0\n",
        "    delta = min(1e2,delta) # clipping the TD error to avoid exploding gradient like phenomenon\n",
        "    err += delta\n",
        "    d = Q.get(s0,a0) + alpha*delta\n",
        "    Q.update(s0,a0,np.squeeze(d))\n",
        "    a0 = a1\n",
        "    s0 = s1\n",
        "    t+=1\n",
        "  return Q, err/(t-1)\n",
        "\n"
      ],
      "execution_count": null,
      "outputs": []
    },
    {
      "cell_type": "markdown",
      "metadata": {
        "id": "pxkaz0TSF_PV"
      },
      "source": [
        "L'entraînement est légèrement différent (et plus simple) qu'avec l'approche MC."
      ]
    },
    {
      "cell_type": "code",
      "metadata": {
        "id": "XX-P_JwxRK9I",
        "colab": {
          "base_uri": "https://localhost:8080/",
          "height": 630
        },
        "outputId": "59c7b618-1c4d-4db5-c6bc-026bc0870a20"
      },
      "source": [
        "grid = GridWorld(start=[2,0],end=[2,4],r=-1e3)\n",
        "traj = Trajectory(grid,show=0,T=1000)\n",
        "Q = ActionStateTable(size=grid.size,values=0.,end=[2,4])\n",
        "iter = 1000\n",
        "update_every = 10\n",
        "epsilon = 1\n",
        "alpha = 1e-2\n",
        "for i in range(iter):\n",
        "  Q, err = traj.SARSA_run(Q,alpha,epsilon)\n",
        "  if i%update_every==update_every-1:\n",
        "    print(f'iter {i}/{iter} , mean delta : {err/update_every}')\n",
        "    epsilon = epsilon*0.96\n",
        "    print(f'epsilon = {epsilon}')\n",
        "  if i == iter-10:\n",
        "    traj.show = 1"
      ],
      "execution_count": null,
      "outputs": [
        {
          "output_type": "display_data",
          "data": {
            "image/png": "[encoded data removed]",
            "text/plain": [
              "<Figure size 432x288 with 1 Axes>"
            ]
          },
          "metadata": {
            "tags": [],
            "needs_background": "light"
          }
        },
        {
          "output_type": "error",
          "ename": "KeyboardInterrupt",
          "evalue": "ignored",
          "traceback": [
            "\u001b[0;31m---------------------------------------------------------------------------\u001b[0m",
            "\u001b[0;31mKeyboardInterrupt\u001b[0m                         Traceback (most recent call last)",
            "\u001b[0;32m<ipython-input-135-5b9e9ed0ca19>\u001b[0m in \u001b[0;36m<module>\u001b[0;34m()\u001b[0m\n\u001b[1;32m      7\u001b[0m \u001b[0malpha\u001b[0m \u001b[0;34m=\u001b[0m \u001b[0;36m1e-2\u001b[0m\u001b[0;34m\u001b[0m\u001b[0;34m\u001b[0m\u001b[0m\n\u001b[1;32m      8\u001b[0m \u001b[0;32mfor\u001b[0m \u001b[0mi\u001b[0m \u001b[0;32min\u001b[0m \u001b[0mrange\u001b[0m\u001b[0;34m(\u001b[0m\u001b[0miter\u001b[0m\u001b[0;34m)\u001b[0m\u001b[0;34m:\u001b[0m\u001b[0;34m\u001b[0m\u001b[0;34m\u001b[0m\u001b[0m\n\u001b[0;32m----> 9\u001b[0;31m   \u001b[0mQ\u001b[0m\u001b[0;34m,\u001b[0m \u001b[0merr\u001b[0m \u001b[0;34m=\u001b[0m \u001b[0mtraj\u001b[0m\u001b[0;34m.\u001b[0m\u001b[0mSARSA_run\u001b[0m\u001b[0;34m(\u001b[0m\u001b[0mQ\u001b[0m\u001b[0;34m,\u001b[0m\u001b[0malpha\u001b[0m\u001b[0;34m,\u001b[0m\u001b[0mepsilon\u001b[0m\u001b[0;34m)\u001b[0m\u001b[0;34m\u001b[0m\u001b[0;34m\u001b[0m\u001b[0m\n\u001b[0m\u001b[1;32m     10\u001b[0m   \u001b[0;32mif\u001b[0m \u001b[0mi\u001b[0m\u001b[0;34m%\u001b[0m\u001b[0mupdate_every\u001b[0m\u001b[0;34m==\u001b[0m\u001b[0mupdate_every\u001b[0m\u001b[0;34m-\u001b[0m\u001b[0;36m1\u001b[0m\u001b[0;34m:\u001b[0m\u001b[0;34m\u001b[0m\u001b[0;34m\u001b[0m\u001b[0m\n\u001b[1;32m     11\u001b[0m     \u001b[0mprint\u001b[0m\u001b[0;34m(\u001b[0m\u001b[0;34mf'iter {i}/{iter} , mean delta : {err/update_every}'\u001b[0m\u001b[0;34m)\u001b[0m\u001b[0;34m\u001b[0m\u001b[0;34m\u001b[0m\u001b[0m\n",
            "\u001b[0;32m<ipython-input-134-efda3da0e638>\u001b[0m in \u001b[0;36mSARSA_run\u001b[0;34m(self, Q, alpha, epsilon)\u001b[0m\n\u001b[1;32m     85\u001b[0m     \u001b[0;32mwhile\u001b[0m \u001b[0;32mnot\u001b[0m \u001b[0mgrid\u001b[0m\u001b[0;34m.\u001b[0m\u001b[0mEOG\u001b[0m \u001b[0;32mand\u001b[0m \u001b[0mt\u001b[0m\u001b[0;34m<\u001b[0m\u001b[0mself\u001b[0m\u001b[0;34m.\u001b[0m\u001b[0mT\u001b[0m\u001b[0;34m:\u001b[0m\u001b[0;34m\u001b[0m\u001b[0;34m\u001b[0m\u001b[0m\n\u001b[1;32m     86\u001b[0m       \u001b[0;32mif\u001b[0m \u001b[0mself\u001b[0m\u001b[0;34m.\u001b[0m\u001b[0mshow\u001b[0m\u001b[0;34m:\u001b[0m\u001b[0;34m\u001b[0m\u001b[0;34m\u001b[0m\u001b[0m\n\u001b[0;32m---> 87\u001b[0;31m         \u001b[0mself\u001b[0m\u001b[0;34m.\u001b[0m\u001b[0mgrid\u001b[0m\u001b[0;34m.\u001b[0m\u001b[0mplot_grid\u001b[0m\u001b[0;34m(\u001b[0m\u001b[0;34m)\u001b[0m\u001b[0;34m\u001b[0m\u001b[0;34m\u001b[0m\u001b[0m\n\u001b[0m\u001b[1;32m     88\u001b[0m       \u001b[0mr\u001b[0m \u001b[0;34m=\u001b[0m \u001b[0mgrid\u001b[0m\u001b[0;34m.\u001b[0m\u001b[0mgo\u001b[0m\u001b[0;34m(\u001b[0m\u001b[0ma0\u001b[0m\u001b[0;34m)\u001b[0m\u001b[0;34m\u001b[0m\u001b[0;34m\u001b[0m\u001b[0m\n\u001b[1;32m     89\u001b[0m       \u001b[0ms1\u001b[0m \u001b[0;34m=\u001b[0m \u001b[0mgrid\u001b[0m\u001b[0;34m.\u001b[0m\u001b[0mstate\u001b[0m\u001b[0;34m\u001b[0m\u001b[0;34m\u001b[0m\u001b[0m\n",
            "\u001b[0;32m<ipython-input-134-efda3da0e638>\u001b[0m in \u001b[0;36mplot_grid\u001b[0;34m(self)\u001b[0m\n\u001b[1;32m     42\u001b[0m     \u001b[0mplt\u001b[0m\u001b[0;34m.\u001b[0m\u001b[0mimshow\u001b[0m\u001b[0;34m(\u001b[0m\u001b[0mgrid\u001b[0m\u001b[0;34m)\u001b[0m\u001b[0;34m\u001b[0m\u001b[0;34m\u001b[0m\u001b[0m\n\u001b[1;32m     43\u001b[0m     \u001b[0mplt\u001b[0m\u001b[0;34m.\u001b[0m\u001b[0mshow\u001b[0m\u001b[0;34m(\u001b[0m\u001b[0;34m)\u001b[0m\u001b[0;34m\u001b[0m\u001b[0;34m\u001b[0m\u001b[0m\n\u001b[0;32m---> 44\u001b[0;31m     \u001b[0msleep\u001b[0m\u001b[0;34m(\u001b[0m\u001b[0;36m.5\u001b[0m\u001b[0;34m)\u001b[0m\u001b[0;34m\u001b[0m\u001b[0;34m\u001b[0m\u001b[0m\n\u001b[0m\u001b[1;32m     45\u001b[0m     \u001b[0mclear_output\u001b[0m\u001b[0;34m(\u001b[0m\u001b[0;34m)\u001b[0m\u001b[0;34m\u001b[0m\u001b[0;34m\u001b[0m\u001b[0m\n\u001b[1;32m     46\u001b[0m \u001b[0;34m\u001b[0m\u001b[0m\n",
            "\u001b[0;31mKeyboardInterrupt\u001b[0m: "
          ]
        }
      ]
    },
    {
      "cell_type": "markdown",
      "metadata": {
        "id": "QPtT9MycGMOp"
      },
      "source": [
        "Observons la politique à présent. Vous pouvez tester différentes configuration en faisant varier le point de départ et d'arriver dans le gridworld correspondant aux paramètres `start` et `end`"
      ]
    },
    {
      "cell_type": "code",
      "metadata": {
        "id": "QM6l2uZc9yQP",
        "colab": {
          "base_uri": "https://localhost:8080/",
          "height": 269
        },
        "outputId": "2d8a30c7-835f-43fd-9df0-d4d51cc44498"
      },
      "source": [
        "Q.plot_table()"
      ],
      "execution_count": null,
      "outputs": [
        {
          "output_type": "display_data",
          "data": {
            "image/png": "[encoded data removed]",
            "text/plain": [
              "<Figure size 432x288 with 1 Axes>"
            ]
          },
          "metadata": {
            "tags": [],
            "needs_background": "light"
          }
        }
      ]
    },
    {
      "cell_type": "markdown",
      "metadata": {
        "id": "p78yXs5lGZXK"
      },
      "source": [
        "### Coding task\n",
        "\n",
        "Complétez la fonction suivante correspondant à une trajectoire avec mise à jour de la valeur suivant l'algorithme Q-Learning"
      ]
    },
    {
      "cell_type": "code",
      "metadata": {
        "id": "ZW5xE0D8Y-8k",
        "colab": {
          "base_uri": "https://localhost:8080/",
          "height": 34
        },
        "outputId": "c287dbb8-39d2-4cdd-f9a1-c7182b1767f3"
      },
      "source": [
        "def QLearning_run(traj,Q,alpha,epsilon):\n",
        "  grid = traj.grid\n",
        "  size = grid.size\n",
        "  grid.reboot()\n",
        "  t = 0\n",
        "  err = 0\n",
        "  s0 = grid.state\n",
        "  while not grid.EOG and t<traj.T:\n",
        "    if traj.show:\n",
        "      traj.grid.plot_grid()\n",
        "    a0 = traj.get_action(Q,s0,epsilon)\n",
        "    q0 = Q.get(s0,a0)\n",
        "    r = grid.go(a0)\n",
        "    s1 = grid.state\n",
        "    a1 = traj.get_action(Q,s1,0)\n",
        "    q1 = Q.get(s1,a1)\n",
        "    delta = r + traj.gamma*q1 - q0\n",
        "    delta = min(1e2,delta) # clipping the TD error to avoid exploding gradient like phenomenon\n",
        "    err += delta\n",
        "    d = Q.get(s0,a0) + alpha*delta\n",
        "    Q.update(s0,a0,np.squeeze(d))\n",
        "    s0 = s1\n",
        "    t+=1\n",
        "  return Q, err/(t-1)"
      ],
      "execution_count": null,
      "outputs": [
        {
          "output_type": "execute_result",
          "data": {
            "text/plain": [
              "array([1, 1, 1, 1, 1, 1, 1, 1, 1, 1])"
            ]
          },
          "metadata": {
            "tags": []
          },
          "execution_count": 140
        }
      ]
    },
    {
      "cell_type": "markdown",
      "metadata": {
        "id": "GMBsZjWbGv-J"
      },
      "source": [
        "Procédons enfin à l'entraîenemt avant d'observer la politique de l'agent"
      ]
    },
    {
      "cell_type": "code",
      "metadata": {
        "id": "4j4BQdnTGspU"
      },
      "source": [
        "grid = GridWorld(start=[2,0],end=[2,4],r=-1e3)\n",
        "traj = Trajectory(grid,show=0,T=1000)\n",
        "Q = ActionStateTable(size=grid.size,values=0.,end=[2,4])\n",
        "iter = 1000\n",
        "update_every = 10\n",
        "epsilon = 1\n",
        "alpha = 1e-2\n",
        "for i in range(iter):\n",
        "  Q, err = traj.QLearning_run(Q,alpha,epsilon)\n",
        "  if i%update_every==update_every-1:\n",
        "    print(f'iter {i}/{iter} , mean delta : {err/update_every}')\n",
        "    epsilon = epsilon*0.96\n",
        "    print(f'epsilon = {epsilon}')\n",
        "  if i == iter-10:\n",
        "    traj.show = 1"
      ],
      "execution_count": null,
      "outputs": []
    }
  ]
}